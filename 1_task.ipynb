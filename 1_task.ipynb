{
 "cells": [
  {
   "cell_type": "code",
   "execution_count": 25,
   "metadata": {},
   "outputs": [
    {
     "name": "stdout",
     "output_type": "stream",
     "text": [
      "Defaulting to user installation because normal site-packages is not writeable\n",
      "Requirement already satisfied: pip in /home/yus/.local/lib/python3.10/site-packages (23.3.2)\n",
      "Requirement already satisfied: install in /home/yus/.local/lib/python3.10/site-packages (1.3.5)\n",
      "Collecting icecream\n",
      "  Downloading icecream-2.1.3-py2.py3-none-any.whl.metadata (1.4 kB)\n",
      "Collecting colorama>=0.3.9 (from icecream)\n",
      "  Downloading colorama-0.4.6-py2.py3-none-any.whl.metadata (17 kB)\n",
      "Requirement already satisfied: pygments>=2.2.0 in /home/yus/.local/lib/python3.10/site-packages (from icecream) (2.16.1)\n",
      "Requirement already satisfied: executing>=0.3.1 in /home/yus/.local/lib/python3.10/site-packages (from icecream) (2.0.0)\n",
      "Requirement already satisfied: asttokens>=2.0.1 in /home/yus/.local/lib/python3.10/site-packages (from icecream) (2.4.0)\n",
      "Requirement already satisfied: six>=1.12.0 in /usr/lib/python3/dist-packages (from asttokens>=2.0.1->icecream) (1.16.0)\n",
      "Downloading icecream-2.1.3-py2.py3-none-any.whl (8.4 kB)\n",
      "Downloading colorama-0.4.6-py2.py3-none-any.whl (25 kB)\n",
      "\u001b[33mDEPRECATION: lightning-lite 1.8.0 has a non-standard dependency specifier torch>=1.9.*. pip 24.0 will enforce this behaviour change. A possible replacement is to upgrade to a newer version of lightning-lite or contact the author to suggest that they release a version with a conforming dependency specifiers. Discussion can be found at https://github.com/pypa/pip/issues/12063\u001b[0m\u001b[33m\n",
      "\u001b[0m\u001b[33mDEPRECATION: distro-info 1.1build1 has a non-standard version number. pip 24.0 will enforce this behaviour change. A possible replacement is to upgrade to a newer version of distro-info or contact the author to suggest that they release a version with a conforming version number. Discussion can be found at https://github.com/pypa/pip/issues/12063\u001b[0m\u001b[33m\n",
      "\u001b[0mInstalling collected packages: colorama, icecream\n",
      "Successfully installed colorama-0.4.6 icecream-2.1.3\n",
      "\n",
      "\u001b[1m[\u001b[0m\u001b[34;49mnotice\u001b[0m\u001b[1;39;49m]\u001b[0m\u001b[39;49m A new release of pip is available: \u001b[0m\u001b[31;49m23.3.2\u001b[0m\u001b[39;49m -> \u001b[0m\u001b[32;49m24.0\u001b[0m\n",
      "\u001b[1m[\u001b[0m\u001b[34;49mnotice\u001b[0m\u001b[1;39;49m]\u001b[0m\u001b[39;49m To update, run: \u001b[0m\u001b[32;49mpip install --upgrade pip\u001b[0m\n"
     ]
    }
   ],
   "source": [
    "!pip3 install pip install icecream"
   ]
  },
  {
   "cell_type": "code",
   "execution_count": 2,
   "metadata": {},
   "outputs": [],
   "source": [
    "import pandas as pd\n",
    "import av\n",
    "import torch\n",
    "import torch.nn as nn\n",
    "import torch.optim as optim\n",
    "import torchvision\n",
    "from torchvision import datasets, models, transforms\n",
    "import numpy as np\n",
    "import matplotlib.pyplot as plt\n",
    "import time\n",
    "import os\n",
    "import copy\n",
    "from icecream import ic\n",
    "from collections import defaultdict"
   ]
  },
  {
   "cell_type": "code",
   "execution_count": 3,
   "metadata": {},
   "outputs": [
    {
     "data": {
      "text/html": [
       "<div>\n",
       "<style scoped>\n",
       "    .dataframe tbody tr th:only-of-type {\n",
       "        vertical-align: middle;\n",
       "    }\n",
       "\n",
       "    .dataframe tbody tr th {\n",
       "        vertical-align: top;\n",
       "    }\n",
       "\n",
       "    .dataframe thead th {\n",
       "        text-align: right;\n",
       "    }\n",
       "</style>\n",
       "<table border=\"1\" class=\"dataframe\">\n",
       "  <thead>\n",
       "    <tr style=\"text-align: right;\">\n",
       "      <th></th>\n",
       "      <th>Unnamed: 0</th>\n",
       "      <th>name_video</th>\n",
       "      <th>label</th>\n",
       "    </tr>\n",
       "  </thead>\n",
       "  <tbody>\n",
       "    <tr>\n",
       "      <th>0</th>\n",
       "      <td>0</td>\n",
       "      <td>videos/video_0000.mp4</td>\n",
       "      <td>tap dancing</td>\n",
       "    </tr>\n",
       "    <tr>\n",
       "      <th>1</th>\n",
       "      <td>1</td>\n",
       "      <td>videos/video_0001.mp4</td>\n",
       "      <td>tap dancing</td>\n",
       "    </tr>\n",
       "    <tr>\n",
       "      <th>2</th>\n",
       "      <td>2</td>\n",
       "      <td>videos/video_0002.mp4</td>\n",
       "      <td>tap dancing</td>\n",
       "    </tr>\n",
       "    <tr>\n",
       "      <th>3</th>\n",
       "      <td>3</td>\n",
       "      <td>videos/video_0003.mp4</td>\n",
       "      <td>tap dancing</td>\n",
       "    </tr>\n",
       "    <tr>\n",
       "      <th>4</th>\n",
       "      <td>4</td>\n",
       "      <td>videos/video_0004.mp4</td>\n",
       "      <td>tap dancing</td>\n",
       "    </tr>\n",
       "    <tr>\n",
       "      <th>...</th>\n",
       "      <td>...</td>\n",
       "      <td>...</td>\n",
       "      <td>...</td>\n",
       "    </tr>\n",
       "    <tr>\n",
       "      <th>2460</th>\n",
       "      <td>2460</td>\n",
       "      <td>videos/video_2460.mp4</td>\n",
       "      <td>tango dancing</td>\n",
       "    </tr>\n",
       "    <tr>\n",
       "      <th>2461</th>\n",
       "      <td>2461</td>\n",
       "      <td>videos/video_2461.mp4</td>\n",
       "      <td>tango dancing</td>\n",
       "    </tr>\n",
       "    <tr>\n",
       "      <th>2462</th>\n",
       "      <td>2462</td>\n",
       "      <td>videos/video_2462.mp4</td>\n",
       "      <td>tango dancing</td>\n",
       "    </tr>\n",
       "    <tr>\n",
       "      <th>2463</th>\n",
       "      <td>2463</td>\n",
       "      <td>videos/video_2463.mp4</td>\n",
       "      <td>tango dancing</td>\n",
       "    </tr>\n",
       "    <tr>\n",
       "      <th>2464</th>\n",
       "      <td>2464</td>\n",
       "      <td>videos/video_2464.mp4</td>\n",
       "      <td>tango dancing</td>\n",
       "    </tr>\n",
       "  </tbody>\n",
       "</table>\n",
       "<p>2465 rows × 3 columns</p>\n",
       "</div>"
      ],
      "text/plain": [
       "      Unnamed: 0             name_video          label\n",
       "0              0  videos/video_0000.mp4    tap dancing\n",
       "1              1  videos/video_0001.mp4    tap dancing\n",
       "2              2  videos/video_0002.mp4    tap dancing\n",
       "3              3  videos/video_0003.mp4    tap dancing\n",
       "4              4  videos/video_0004.mp4    tap dancing\n",
       "...          ...                    ...            ...\n",
       "2460        2460  videos/video_2460.mp4  tango dancing\n",
       "2461        2461  videos/video_2461.mp4  tango dancing\n",
       "2462        2462  videos/video_2462.mp4  tango dancing\n",
       "2463        2463  videos/video_2463.mp4  tango dancing\n",
       "2464        2464  videos/video_2464.mp4  tango dancing\n",
       "\n",
       "[2465 rows x 3 columns]"
      ]
     },
     "execution_count": 3,
     "metadata": {},
     "output_type": "execute_result"
    }
   ],
   "source": [
    "df = pd.read_csv(\"data.csv\")\n",
    "df"
   ]
  },
  {
   "cell_type": "code",
   "execution_count": null,
   "metadata": {},
   "outputs": [],
   "source": [
    "import pandas as pd\n",
    "import cv2\n",
    "import os\n",
    "\n",
    "# Функция для сохранения изображения из видео по указанному времени\n",
    "def save_frame(video_path, output_folder, label, frame_time):\n",
    "    cap = cv2.VideoCapture(video_path)\n",
    "    cap.set(cv2.CAP_PROP_POS_MSEC, frame_time * 1000)  # Установка времени в миллисекундах\n",
    "    ret, frame = cap.read()\n",
    "    cap.release()\n",
    "\n",
    "    class_folder = os.path.join(output_folder, str(label))\n",
    "    os.makedirs(class_folder, exist_ok=True)\n",
    "\n",
    "    image_name = os.path.splitext(os.path.basename(video_path))[0] + \"_frame_\" + str(frame_time) + \".jpg\"\n",
    "    image_path = os.path.join(class_folder, image_name)\n",
    "    cv2.imwrite(image_path, frame)\n",
    "\n",
    "# Загрузка CSV файла\n",
    "csv_file = \"DZ3/data.csv.csv\"\n",
    "df = pd.read_csv(csv_file)\n",
    "\n",
    "# Папка, куда будут сохранены изображения\n",
    "output_folder = \"data\"\n",
    "\n",
    "# Количество изображений, которые нужно сохранить из каждого видео\n",
    "num_images_per_video = 5\n",
    "\n",
    "# Проход по каждой строке CSV файла\n",
    "for index, row in df.iterrows():\n",
    "    video_name = row['name_video']\n",
    "    label = row['label']\n",
    "    video_path = os.path.join(\"data\", video_name)  # Путь к видеофайлу\n",
    "\n",
    "    # Определение интервала времени между изображениями\n",
    "    total_frames = int(cv2.VideoCapture(video_path).get(cv2.CAP_PROP_FRAME_COUNT))\n",
    "    frame_interval = total_frames // (num_images_per_video + 1)\n",
    "\n",
    "    # Сохранение изображений из видео\n",
    "    for i in range(1, num_images_per_video + 1):\n",
    "        frame_time = i * frame_interval\n",
    "        save_frame(video_path, output_folder, label, frame_time)\n",
    "\n",
    "print(\"Изображения сохранены в папке data.\")"
   ]
  },
  {
   "cell_type": "code",
   "execution_count": 4,
   "metadata": {},
   "outputs": [
    {
     "name": "stderr",
     "output_type": "stream",
     "text": [
      "/home/yus/.local/lib/python3.10/site-packages/torchvision/models/_utils.py:208: UserWarning: The parameter 'pretrained' is deprecated since 0.13 and may be removed in the future, please use 'weights' instead.\n",
      "  warnings.warn(\n",
      "/home/yus/.local/lib/python3.10/site-packages/torchvision/models/_utils.py:223: UserWarning: Arguments other than a weight enum or `None` for 'weights' are deprecated since 0.13 and may be removed in the future. The current behavior is equivalent to passing `weights=VGG11_Weights.IMAGENET1K_V1`. You can also use `weights=VGG11_Weights.DEFAULT` to get the most up-to-date weights.\n",
      "  warnings.warn(msg)\n"
     ]
    },
    {
     "name": "stdout",
     "output_type": "stream",
     "text": [
      "VGG(\n",
      "  (features): Sequential(\n",
      "    (0): Conv2d(3, 64, kernel_size=(3, 3), stride=(1, 1), padding=(1, 1))\n",
      "    (1): ReLU(inplace=True)\n",
      "    (2): MaxPool2d(kernel_size=2, stride=2, padding=0, dilation=1, ceil_mode=False)\n",
      "    (3): Conv2d(64, 128, kernel_size=(3, 3), stride=(1, 1), padding=(1, 1))\n",
      "    (4): ReLU(inplace=True)\n",
      "    (5): MaxPool2d(kernel_size=2, stride=2, padding=0, dilation=1, ceil_mode=False)\n",
      "    (6): Conv2d(128, 256, kernel_size=(3, 3), stride=(1, 1), padding=(1, 1))\n",
      "    (7): ReLU(inplace=True)\n",
      "    (8): Conv2d(256, 256, kernel_size=(3, 3), stride=(1, 1), padding=(1, 1))\n",
      "    (9): ReLU(inplace=True)\n",
      "    (10): MaxPool2d(kernel_size=2, stride=2, padding=0, dilation=1, ceil_mode=False)\n",
      "    (11): Conv2d(256, 512, kernel_size=(3, 3), stride=(1, 1), padding=(1, 1))\n",
      "    (12): ReLU(inplace=True)\n",
      "    (13): Conv2d(512, 512, kernel_size=(3, 3), stride=(1, 1), padding=(1, 1))\n",
      "    (14): ReLU(inplace=True)\n",
      "    (15): MaxPool2d(kernel_size=2, stride=2, padding=0, dilation=1, ceil_mode=False)\n",
      "    (16): Conv2d(512, 512, kernel_size=(3, 3), stride=(1, 1), padding=(1, 1))\n",
      "    (17): ReLU(inplace=True)\n",
      "    (18): Conv2d(512, 512, kernel_size=(3, 3), stride=(1, 1), padding=(1, 1))\n",
      "    (19): ReLU(inplace=True)\n",
      "    (20): MaxPool2d(kernel_size=2, stride=2, padding=0, dilation=1, ceil_mode=False)\n",
      "  )\n",
      "  (avgpool): AdaptiveAvgPool2d(output_size=(7, 7))\n",
      "  (classifier): Sequential(\n",
      "    (0): Linear(in_features=25088, out_features=4096, bias=True)\n",
      "    (1): ReLU(inplace=True)\n",
      "    (2): Dropout(p=0.5, inplace=False)\n",
      "    (3): Linear(in_features=4096, out_features=4096, bias=True)\n",
      "    (4): ReLU(inplace=True)\n",
      "    (5): Dropout(p=0.5, inplace=False)\n",
      "    (6): Linear(in_features=4096, out_features=1000, bias=True)\n",
      "  )\n",
      ")\n"
     ]
    }
   ],
   "source": [
    "model=models.vgg11(pretrained=True)\n",
    "print(model)"
   ]
  },
  {
   "cell_type": "code",
   "execution_count": 5,
   "metadata": {},
   "outputs": [
    {
     "name": "stderr",
     "output_type": "stream",
     "text": [
      "ic| num_classes: 15\n",
      "ic| shapes: {'belly_dancing': 2,\n",
      "             'breakdancing': 7,\n",
      "             'country_line_dancing': 12,\n",
      "             'dancing_ballet': 1,\n",
      "             'dancing_charleston': 14,\n",
      "             'dancing_gangnam_style': 8,\n",
      "             'dancing_macarena': 5,\n",
      "             'jumpstyle_dancing': 13,\n",
      "             'mosh_pit_dancing': 0,\n",
      "             'robot_dancing': 11,\n",
      "             'salsa_dancing': 9,\n",
      "             'square_dancing': 6,\n",
      "             'swing_dancing': 3,\n",
      "             'tango_dancing': 10,\n",
      "             'tap_dancing': 4}\n"
     ]
    }
   ],
   "source": [
    "shapes=os.listdir('data/train')\n",
    "shapes={e:i for i,e in enumerate(shapes)}\n",
    "num_classes=len(shapes)\n",
    "ic(num_classes)\n",
    "_=ic(shapes)"
   ]
  },
  {
   "cell_type": "code",
   "execution_count": 6,
   "metadata": {},
   "outputs": [
    {
     "name": "stderr",
     "output_type": "stream",
     "text": [
      "ic| device: device(type='cuda', index=0)\n"
     ]
    }
   ],
   "source": [
    "image_datasets={x:datasets.ImageFolder(os.path.join('data',x),transforms.Compose([transforms.ToTensor()])) for x in ['train','val','test']}\n",
    "dataloaders_dict={x:torch.utils.data.DataLoader(image_datasets[x],batch_size=32,shuffle=True,num_workers=4) for x in ['train','val','test']}\n",
    "device=torch.device('cuda:0' if torch.cuda.is_available() else 'cpu')\n",
    "_=ic(device)"
   ]
  },
  {
   "cell_type": "code",
   "execution_count": 7,
   "metadata": {},
   "outputs": [
    {
     "data": {
      "text/plain": [
       "VGG(\n",
       "  (features): Sequential(\n",
       "    (0): Conv2d(3, 64, kernel_size=(3, 3), stride=(1, 1), padding=(1, 1))\n",
       "    (1): ReLU(inplace=True)\n",
       "    (2): MaxPool2d(kernel_size=2, stride=2, padding=0, dilation=1, ceil_mode=False)\n",
       "    (3): Conv2d(64, 128, kernel_size=(3, 3), stride=(1, 1), padding=(1, 1))\n",
       "    (4): ReLU(inplace=True)\n",
       "    (5): MaxPool2d(kernel_size=2, stride=2, padding=0, dilation=1, ceil_mode=False)\n",
       "    (6): Conv2d(128, 256, kernel_size=(3, 3), stride=(1, 1), padding=(1, 1))\n",
       "    (7): ReLU(inplace=True)\n",
       "    (8): Conv2d(256, 256, kernel_size=(3, 3), stride=(1, 1), padding=(1, 1))\n",
       "    (9): ReLU(inplace=True)\n",
       "    (10): MaxPool2d(kernel_size=2, stride=2, padding=0, dilation=1, ceil_mode=False)\n",
       "    (11): Conv2d(256, 512, kernel_size=(3, 3), stride=(1, 1), padding=(1, 1))\n",
       "    (12): ReLU(inplace=True)\n",
       "    (13): Conv2d(512, 512, kernel_size=(3, 3), stride=(1, 1), padding=(1, 1))\n",
       "    (14): ReLU(inplace=True)\n",
       "    (15): MaxPool2d(kernel_size=2, stride=2, padding=0, dilation=1, ceil_mode=False)\n",
       "    (16): Conv2d(512, 512, kernel_size=(3, 3), stride=(1, 1), padding=(1, 1))\n",
       "    (17): ReLU(inplace=True)\n",
       "    (18): Conv2d(512, 512, kernel_size=(3, 3), stride=(1, 1), padding=(1, 1))\n",
       "    (19): ReLU(inplace=True)\n",
       "    (20): MaxPool2d(kernel_size=2, stride=2, padding=0, dilation=1, ceil_mode=False)\n",
       "  )\n",
       "  (avgpool): AdaptiveAvgPool2d(output_size=(7, 7))\n",
       "  (classifier): Sequential(\n",
       "    (0): Linear(in_features=25088, out_features=4096, bias=True)\n",
       "    (1): ReLU(inplace=True)\n",
       "    (2): Dropout(p=0.5, inplace=False)\n",
       "    (3): Linear(in_features=4096, out_features=4096, bias=True)\n",
       "    (4): ReLU(inplace=True)\n",
       "    (5): Dropout(p=0.5, inplace=False)\n",
       "    (6): Linear(in_features=4096, out_features=15, bias=True)\n",
       "  )\n",
       ")"
      ]
     },
     "execution_count": 7,
     "metadata": {},
     "output_type": "execute_result"
    }
   ],
   "source": [
    "# Freeze the features layers\n",
    "for param in model.parameters():\n",
    "    param.requires_grad = False\n",
    "    \n",
    "model.classifier[6]=nn.Linear(4096,num_classes)\n",
    "model.to(device)"
   ]
  },
  {
   "cell_type": "code",
   "execution_count": 8,
   "metadata": {},
   "outputs": [],
   "source": [
    "optimizer=optim.Adam(model.parameters())\n",
    "criterion=torch.nn.CrossEntropyLoss()"
   ]
  },
  {
   "cell_type": "code",
   "execution_count": 9,
   "metadata": {},
   "outputs": [],
   "source": [
    "loss_history = {'train': [], 'val': [], 'test': []}\n",
    "acc_history = {'train': [], 'val': [], 'test': []}\n",
    "best_weights, bests_acc = copy.deepcopy(model.state_dict()), 0.0"
   ]
  },
  {
   "cell_type": "code",
   "execution_count": 13,
   "metadata": {},
   "outputs": [
    {
     "name": "stdout",
     "output_type": "stream",
     "text": [
      "Epoch: 0\n"
     ]
    },
    {
     "name": "stderr",
     "output_type": "stream",
     "text": [
      "ic| epoch: 0\n",
      "    phase: 'train'\n",
      "    epoch_loss: tensor(0.4168, device='cuda:0')\n",
      "    epoch_acc: tensor(0.4168, device='cuda:0', dtype=torch.float64)\n",
      "ic| epoch: 0\n",
      "    phase: 'val'\n",
      "    epoch_loss: tensor(0.2503, device='cuda:0')\n",
      "    epoch_acc: tensor(0.2503, device='cuda:0', dtype=torch.float64)\n",
      "ic| epoch: 0\n",
      "    phase: 'test'\n",
      "    epoch_loss: tensor(0.2752, device='cuda:0')\n",
      "    epoch_acc: tensor(0.2752, device='cuda:0', dtype=torch.float64)\n"
     ]
    },
    {
     "name": "stdout",
     "output_type": "stream",
     "text": [
      "Epoch: 1\n"
     ]
    },
    {
     "name": "stderr",
     "output_type": "stream",
     "text": [
      "ic| epoch: 1\n",
      "    phase: 'train'\n",
      "    epoch_loss: tensor(0.4173, device='cuda:0')\n",
      "    epoch_acc: tensor(0.4173, device='cuda:0', dtype=torch.float64)\n",
      "ic| epoch: 1\n",
      "    phase: 'val'\n",
      "    epoch_loss: tensor(0.2400, device='cuda:0')\n",
      "    epoch_acc: tensor(0.2400, device='cuda:0', dtype=torch.float64)\n",
      "ic| epoch: 1\n",
      "    phase: 'test'\n",
      "    epoch_loss: tensor(0.2601, device='cuda:0')\n",
      "    epoch_acc: tensor(0.2601, device='cuda:0', dtype=torch.float64)\n"
     ]
    },
    {
     "name": "stdout",
     "output_type": "stream",
     "text": [
      "Epoch: 2\n"
     ]
    },
    {
     "name": "stderr",
     "output_type": "stream",
     "text": [
      "ic| epoch: 2\n",
      "    phase: 'train'\n",
      "    epoch_loss: tensor(0.4249, device='cuda:0')\n",
      "    epoch_acc: tensor(0.4249, device='cuda:0', dtype=torch.float64)\n",
      "ic| epoch: 2\n",
      "    phase: 'val'\n",
      "    epoch_loss: tensor(0.2492, device='cuda:0')\n",
      "    epoch_acc: tensor(0.2492, device='cuda:0', dtype=torch.float64)\n",
      "ic| epoch: 2\n",
      "    phase: 'test'\n",
      "    epoch_loss: tensor(0.2581, device='cuda:0')\n",
      "    epoch_acc: tensor(0.2581, device='cuda:0', dtype=torch.float64)\n"
     ]
    },
    {
     "name": "stdout",
     "output_type": "stream",
     "text": [
      "Epoch: 3\n"
     ]
    },
    {
     "name": "stderr",
     "output_type": "stream",
     "text": [
      "ic| epoch: 3\n",
      "    phase: 'train'\n",
      "    epoch_loss: tensor(0.4344, device='cuda:0')\n",
      "    epoch_acc: tensor(0.4344, device='cuda:0', dtype=torch.float64)\n",
      "ic| epoch: 3\n",
      "    phase: 'val'\n",
      "    epoch_loss: tensor(0.2584, device='cuda:0')\n",
      "    epoch_acc: tensor(0.2584, device='cuda:0', dtype=torch.float64)\n",
      "ic| epoch: 3\n",
      "    phase: 'test'\n",
      "    epoch_loss: tensor(0.2772, device='cuda:0')\n",
      "    epoch_acc: tensor(0.2772, device='cuda:0', dtype=torch.float64)\n"
     ]
    },
    {
     "name": "stdout",
     "output_type": "stream",
     "text": [
      "Epoch: 4\n"
     ]
    },
    {
     "name": "stderr",
     "output_type": "stream",
     "text": [
      "ic| epoch: 4\n",
      "    phase: 'train'\n",
      "    epoch_loss: tensor(0.4319, device='cuda:0')\n",
      "    epoch_acc: tensor(0.4319, device='cuda:0', dtype=torch.float64)\n",
      "ic| epoch: 4\n",
      "    phase: 'val'\n",
      "    epoch_loss: tensor(0.2605, device='cuda:0')\n",
      "    epoch_acc: tensor(0.2605, device='cuda:0', dtype=torch.float64)\n",
      "ic| epoch: 4\n",
      "    phase: 'test'\n",
      "    epoch_loss: tensor(0.2873, device='cuda:0')\n",
      "    epoch_acc: tensor(0.2873, device='cuda:0', dtype=torch.float64)\n"
     ]
    },
    {
     "name": "stdout",
     "output_type": "stream",
     "text": [
      "Epoch: 5\n"
     ]
    },
    {
     "name": "stderr",
     "output_type": "stream",
     "text": [
      "ic| epoch: 5\n",
      "    phase: 'train'\n",
      "    epoch_loss: tensor(0.4369, device='cuda:0')\n",
      "    epoch_acc: tensor(0.4369, device='cuda:0', dtype=torch.float64)\n",
      "ic| epoch: 5\n",
      "    phase: 'val'\n",
      "    epoch_loss: tensor(0.2666, device='cuda:0')\n",
      "    epoch_acc: tensor(0.2666, device='cuda:0', dtype=torch.float64)\n",
      "ic| epoch: 5\n",
      "    phase: 'test'\n",
      "    epoch_loss: tensor(0.2722, device='cuda:0')\n",
      "    epoch_acc: tensor(0.2722, device='cuda:0', dtype=torch.float64)\n"
     ]
    },
    {
     "name": "stdout",
     "output_type": "stream",
     "text": [
      "Epoch: 6\n"
     ]
    },
    {
     "name": "stderr",
     "output_type": "stream",
     "text": [
      "ic| epoch: 6\n",
      "    phase: 'train'\n",
      "    epoch_loss: tensor(0.4306, device='cuda:0')\n",
      "    epoch_acc: tensor(0.4306, device='cuda:0', dtype=torch.float64)\n",
      "ic| epoch: 6\n",
      "    phase: 'val'\n",
      "    epoch_loss: tensor(0.2503, device='cuda:0')\n",
      "    epoch_acc: tensor(0.2503, device='cuda:0', dtype=torch.float64)\n",
      "ic| epoch: 6\n",
      "    phase: 'test'\n",
      "    epoch_loss: tensor(0.2752, device='cuda:0')\n",
      "    epoch_acc: tensor(0.2752, device='cuda:0', dtype=torch.float64)\n"
     ]
    },
    {
     "name": "stdout",
     "output_type": "stream",
     "text": [
      "Epoch: 7\n"
     ]
    },
    {
     "name": "stderr",
     "output_type": "stream",
     "text": [
      "ic| epoch: 7\n",
      "    phase: 'train'\n",
      "    epoch_loss: tensor(0.4357, device='cuda:0')\n",
      "    epoch_acc: tensor(0.4357, device='cuda:0', dtype=torch.float64)\n",
      "ic| epoch: 7\n",
      "    phase: 'val'\n",
      "    epoch_loss: tensor(0.2686, device='cuda:0')\n",
      "    epoch_acc: tensor(0.2686, device='cuda:0', dtype=torch.float64)\n",
      "ic| epoch: 7\n",
      "    phase: 'test'\n",
      "    epoch_loss: tensor(0.2752, device='cuda:0')\n",
      "    epoch_acc: tensor(0.2752, device='cuda:0', dtype=torch.float64)\n"
     ]
    },
    {
     "name": "stdout",
     "output_type": "stream",
     "text": [
      "Epoch: 8\n"
     ]
    },
    {
     "name": "stderr",
     "output_type": "stream",
     "text": [
      "ic| epoch: 8\n",
      "    phase: 'train'\n",
      "    epoch_loss: tensor(0.4326, device='cuda:0')\n",
      "    epoch_acc: tensor(0.4326, device='cuda:0', dtype=torch.float64)\n",
      "ic| epoch: 8\n",
      "    phase: 'val'\n",
      "    epoch_loss: tensor(0.2543, device='cuda:0')\n",
      "    epoch_acc: tensor(0.2543, device='cuda:0', dtype=torch.float64)\n",
      "ic| epoch: 8\n",
      "    phase: 'test'\n",
      "    epoch_loss: tensor(0.2641, device='cuda:0')\n",
      "    epoch_acc: tensor(0.2641, device='cuda:0', dtype=torch.float64)\n"
     ]
    },
    {
     "name": "stdout",
     "output_type": "stream",
     "text": [
      "Epoch: 9\n"
     ]
    },
    {
     "name": "stderr",
     "output_type": "stream",
     "text": [
      "ic| epoch: 9\n",
      "    phase: 'train'\n",
      "    epoch_loss: tensor(0.4470, device='cuda:0')\n",
      "    epoch_acc: tensor(0.4470, device='cuda:0', dtype=torch.float64)\n",
      "ic| epoch: 9\n",
      "    phase: 'val'\n",
      "    epoch_loss: tensor(0.2554, device='cuda:0')\n",
      "    epoch_acc: tensor(0.2554, device='cuda:0', dtype=torch.float64)\n"
     ]
    },
    {
     "name": "stdout",
     "output_type": "stream",
     "text": [
      "Accuracy: 0.40205099067065014\n",
      "Precision: 0.3985150040911357\n",
      "Recall: 0.40205099067065014\n",
      "F1 Score: 0.39954317533579164\n"
     ]
    },
    {
     "data": {
      "image/png": "[encoded data removed]",
      "text/plain": [
       "<Figure size 800x600 with 2 Axes>"
      ]
     },
     "metadata": {},
     "output_type": "display_data"
    },
    {
     "name": "stderr",
     "output_type": "stream",
     "text": [
      "ic| epoch: 9\n",
      "    phase: 'test'\n",
      "    epoch_loss: tensor(0.2440, device='cuda:0')\n",
      "    epoch_acc: tensor(0.2440, device='cuda:0', dtype=torch.float64)\n"
     ]
    }
   ],
   "source": [
    "import copy\n",
    "import torch\n",
    "import matplotlib.pyplot as plt\n",
    "from sklearn.metrics import confusion_matrix, accuracy_score, precision_score, recall_score, f1_score\n",
    "\n",
    "\n",
    "# Инициализация пустой матрицы ошибок и списков для сохранения предсказаний и меток\n",
    "all_preds = []\n",
    "all_labels = []\n",
    "\n",
    "# Цикл обучения и валидации\n",
    "for epoch in range(10):\n",
    "    print(\"Epoch:\", epoch) \n",
    "    for phase in ['train', 'val', 'test']:\n",
    "        if phase == 'train':\n",
    "            model.train()\n",
    "        elif phase == 'val' or phase == 'test':\n",
    "            model.eval()\n",
    "\n",
    "        running_loss = 0.0\n",
    "        running_corrects = 0\n",
    "\n",
    "        for inputs, labels in dataloaders_dict[phase]:\n",
    "            torch.cuda.empty_cache()\n",
    "            inputs = inputs.to(device)\n",
    "            labels = labels.to(device)\n",
    "\n",
    "            optimizer.zero_grad()\n",
    "\n",
    "            with torch.set_grad_enabled(phase == 'train'):\n",
    "                outputs = model(inputs)\n",
    "                loss = criterion(outputs, labels)\n",
    "\n",
    "                _, preds = torch.max(outputs, 1)\n",
    "\n",
    "                if phase == 'train':\n",
    "                    loss.backward()\n",
    "                    optimizer.step()\n",
    "\n",
    "                running_loss += loss.item() * inputs.size(0)\n",
    "                running_corrects += torch.sum(preds == labels.data)\n",
    "\n",
    "                # Добавление предсказаний и меток в списки\n",
    "                all_preds.extend(preds.cpu().numpy())\n",
    "                all_labels.extend(labels.cpu().numpy())\n",
    "\n",
    "            epoch_loss = running_corrects / len(dataloaders_dict[phase].dataset)\n",
    "            epoch_acc = running_corrects.double() / len(dataloaders_dict[phase].dataset)\n",
    "            loss_history[phase].append(epoch_loss)\n",
    "            acc_history[phase].append(epoch_acc)\n",
    "\n",
    "            if phase != 'test' and epoch_acc > bests_acc:\n",
    "                best_weights = copy.deepcopy(model.state_dict())\n",
    "                bests_acc = epoch_acc\n",
    "\n",
    "            \n",
    "\n",
    "        # Вывод информации о текущем эпохе и фазе\n",
    "        _ = ic(epoch, phase, epoch_loss, epoch_acc)\n",
    "\n",
    "        # Вывод матрицы ошибок и вычисление F1-меры после валидации\n",
    "        if phase == 'val' and epoch==9:\n",
    "            cm = confusion_matrix(all_labels, all_preds)\n",
    "            accuracy = accuracy_score(all_labels, all_preds)\n",
    "            precision = precision_score(all_labels, all_preds, average='weighted')\n",
    "            recall = recall_score(all_labels, all_preds, average='weighted')\n",
    "            f1 = f1_score(all_labels, all_preds, average='weighted')\n",
    "            print('Accuracy:', accuracy)\n",
    "            print('Precision:', precision)\n",
    "            print('Recall:', recall)\n",
    "            print('F1 Score:', f1)\n",
    "\n",
    "            # Отрисовка матрицы ошибок\n",
    "            plt.figure(figsize=(8, 6))\n",
    "            plt.imshow(cm, interpolation='nearest', cmap=plt.cm.Blues)\n",
    "            plt.title('Confusion Matrix')\n",
    "            plt.colorbar()\n",
    "            # plt.xticks(range(len(classes)), classes, rotation=45)\n",
    "            # plt.yticks(range(len(classes)), classes)\n",
    "            plt.xlabel('Predicted Label')\n",
    "            plt.ylabel('True Label')\n",
    "            plt.show()"
   ]
  },
  {
   "cell_type": "code",
   "execution_count": 14,
   "metadata": {},
   "outputs": [
    {
     "name": "stdout",
     "output_type": "stream",
     "text": [
      "Epoch: 0\n"
     ]
    },
    {
     "name": "stderr",
     "output_type": "stream",
     "text": [
      "ic| epoch: 0\n",
      "    phase: 'train'\n",
      "    epoch_loss: tensor(0.4459, device='cuda:0')\n",
      "    epoch_acc: tensor(0.4459, device='cuda:0', dtype=torch.float64)\n",
      "ic| epoch: 0\n",
      "    phase: 'val'\n",
      "    epoch_loss: tensor(0.2349, device='cuda:0')\n",
      "    epoch_acc: tensor(0.2349, device='cuda:0', dtype=torch.float64)\n",
      "ic| epoch: 0\n",
      "    phase: 'test'\n",
      "    epoch_loss: tensor(0.2681, device='cuda:0')\n",
      "    epoch_acc: tensor(0.2681, device='cuda:0', dtype=torch.float64)\n"
     ]
    },
    {
     "name": "stdout",
     "output_type": "stream",
     "text": [
      "Epoch: 1\n"
     ]
    },
    {
     "name": "stderr",
     "output_type": "stream",
     "text": [
      "ic| epoch: 1\n",
      "    phase: 'train'\n",
      "    epoch_loss: tensor(0.4389, device='cuda:0')\n",
      "    epoch_acc: tensor(0.4389, device='cuda:0', dtype=torch.float64)\n",
      "ic| epoch: 1\n",
      "    phase: 'val'\n",
      "    epoch_loss: tensor(0.2727, device='cuda:0')\n",
      "    epoch_acc: tensor(0.2727, device='cuda:0', dtype=torch.float64)\n",
      "ic| epoch: 1\n",
      "    phase: 'test'\n",
      "    epoch_loss: tensor(0.2802, device='cuda:0')\n",
      "    epoch_acc: tensor(0.2802, device='cuda:0', dtype=torch.float64)\n"
     ]
    },
    {
     "name": "stdout",
     "output_type": "stream",
     "text": [
      "Epoch: 2\n"
     ]
    },
    {
     "name": "stderr",
     "output_type": "stream",
     "text": [
      "ic| epoch: 2\n",
      "    phase: 'train'\n",
      "    epoch_loss: tensor(0.4490, device='cuda:0')\n",
      "    epoch_acc: tensor(0.4490, device='cuda:0', dtype=torch.float64)\n",
      "ic| epoch: 2\n",
      "    phase: 'val'\n",
      "    epoch_loss: tensor(0.2298, device='cuda:0')\n",
      "    epoch_acc: tensor(0.2298, device='cuda:0', dtype=torch.float64)\n",
      "ic| epoch: 2\n",
      "    phase: 'test'\n",
      "    epoch_loss: tensor(0.2540, device='cuda:0')\n",
      "    epoch_acc: tensor(0.2540, device='cuda:0', dtype=torch.float64)\n"
     ]
    },
    {
     "name": "stdout",
     "output_type": "stream",
     "text": [
      "Epoch: 3\n"
     ]
    },
    {
     "name": "stderr",
     "output_type": "stream",
     "text": [
      "ic| epoch: 3\n",
      "    phase: 'train'\n",
      "    epoch_loss: tensor(0.4697, device='cuda:0')\n",
      "    epoch_acc: tensor(0.4697, device='cuda:0', dtype=torch.float64)\n",
      "ic| epoch: 3\n",
      "    phase: 'val'\n",
      "    epoch_loss: tensor(0.2594, device='cuda:0')\n",
      "    epoch_acc: tensor(0.2594, device='cuda:0', dtype=torch.float64)\n",
      "ic| epoch: 3\n",
      "    phase: 'test'\n",
      "    epoch_loss: tensor(0.2853, device='cuda:0')\n",
      "    epoch_acc: tensor(0.2853, device='cuda:0', dtype=torch.float64)\n"
     ]
    },
    {
     "name": "stdout",
     "output_type": "stream",
     "text": [
      "Epoch: 4\n"
     ]
    },
    {
     "name": "stderr",
     "output_type": "stream",
     "text": [
      "ic| epoch: 4\n",
      "    phase: 'train'\n",
      "    epoch_loss: tensor(0.4869, device='cuda:0')\n",
      "    epoch_acc: tensor(0.4869, device='cuda:0', dtype=torch.float64)\n",
      "ic| epoch: 4\n",
      "    phase: 'val'\n",
      "    epoch_loss: tensor(0.2717, device='cuda:0')\n",
      "    epoch_acc: tensor(0.2717, device='cuda:0', dtype=torch.float64)\n",
      "ic| epoch: 4\n",
      "    phase: 'test'\n",
      "    epoch_loss: tensor(0.2802, device='cuda:0')\n",
      "    epoch_acc: tensor(0.2802, device='cuda:0', dtype=torch.float64)\n"
     ]
    },
    {
     "name": "stdout",
     "output_type": "stream",
     "text": [
      "Epoch: 5\n"
     ]
    },
    {
     "name": "stderr",
     "output_type": "stream",
     "text": [
      "ic| epoch: 5\n",
      "    phase: 'train'\n",
      "    epoch_loss: tensor(0.4903, device='cuda:0')\n",
      "    epoch_acc: tensor(0.4903, device='cuda:0', dtype=torch.float64)\n",
      "ic| epoch: 5\n",
      "    phase: 'val'\n",
      "    epoch_loss: tensor(0.2635, device='cuda:0')\n",
      "    epoch_acc: tensor(0.2635, device='cuda:0', dtype=torch.float64)\n",
      "ic| epoch: 5\n",
      "    phase: 'test'\n",
      "    epoch_loss: tensor(0.2853, device='cuda:0')\n",
      "    epoch_acc: tensor(0.2853, device='cuda:0', dtype=torch.float64)\n"
     ]
    },
    {
     "name": "stdout",
     "output_type": "stream",
     "text": [
      "Epoch: 6\n"
     ]
    },
    {
     "name": "stderr",
     "output_type": "stream",
     "text": [
      "ic| epoch: 6\n",
      "    phase: 'train'\n",
      "    epoch_loss: tensor(0.4944, device='cuda:0')\n",
      "    epoch_acc: tensor(0.4944, device='cuda:0', dtype=torch.float64)\n",
      "ic| epoch: 6\n",
      "    phase: 'val'\n",
      "    epoch_loss: tensor(0.2646, device='cuda:0')\n",
      "    epoch_acc: tensor(0.2646, device='cuda:0', dtype=torch.float64)\n",
      "ic| epoch: 6\n",
      "    phase: 'test'\n",
      "    epoch_loss: tensor(0.2853, device='cuda:0')\n",
      "    epoch_acc: tensor(0.2853, device='cuda:0', dtype=torch.float64)\n"
     ]
    },
    {
     "name": "stdout",
     "output_type": "stream",
     "text": [
      "Epoch: 7\n"
     ]
    },
    {
     "name": "stderr",
     "output_type": "stream",
     "text": [
      "ic| epoch: 7\n",
      "    phase: 'train'\n",
      "    epoch_loss: tensor(0.4971, device='cuda:0')\n",
      "    epoch_acc: tensor(0.4971, device='cuda:0', dtype=torch.float64)\n",
      "ic| epoch: 7\n",
      "    phase: 'val'\n",
      "    epoch_loss: tensor(0.2676, device='cuda:0')\n",
      "    epoch_acc: tensor(0.2676, device='cuda:0', dtype=torch.float64)\n",
      "ic| epoch: 7\n",
      "    phase: 'test'\n",
      "    epoch_loss: tensor(0.2812, device='cuda:0')\n",
      "    epoch_acc: tensor(0.2812, device='cuda:0', dtype=torch.float64)\n"
     ]
    },
    {
     "name": "stdout",
     "output_type": "stream",
     "text": [
      "Epoch: 8\n"
     ]
    },
    {
     "name": "stderr",
     "output_type": "stream",
     "text": [
      "ic| epoch: 8\n",
      "    phase: 'train'\n",
      "    epoch_loss: tensor(0.4864, device='cuda:0')\n",
      "    epoch_acc: tensor(0.4864, device='cuda:0', dtype=torch.float64)\n",
      "ic| epoch: 8\n",
      "    phase: 'val'\n",
      "    epoch_loss: tensor(0.2686, device='cuda:0')\n",
      "    epoch_acc: tensor(0.2686, device='cuda:0', dtype=torch.float64)\n",
      "ic| epoch: 8\n",
      "    phase: 'test'\n",
      "    epoch_loss: tensor(0.2812, device='cuda:0')\n",
      "    epoch_acc: tensor(0.2812, device='cuda:0', dtype=torch.float64)\n"
     ]
    },
    {
     "name": "stdout",
     "output_type": "stream",
     "text": [
      "Epoch: 9\n"
     ]
    },
    {
     "name": "stderr",
     "output_type": "stream",
     "text": [
      "ic| epoch: 9\n",
      "    phase: 'train'\n",
      "    epoch_loss: tensor(0.4918, device='cuda:0')\n",
      "    epoch_acc: tensor(0.4918, device='cuda:0', dtype=torch.float64)\n",
      "ic| epoch: 9\n",
      "    phase: 'val'\n",
      "    epoch_loss: tensor(0.2686, device='cuda:0')\n",
      "    epoch_acc: tensor(0.2686, device='cuda:0', dtype=torch.float64)\n"
     ]
    },
    {
     "name": "stdout",
     "output_type": "stream",
     "text": [
      "Accuracy: 0.4396341575175498\n",
      "Precision: 0.4366612986044733\n",
      "Recall: 0.4396341575175498\n",
      "F1 Score: 0.43725269190632793\n"
     ]
    },
    {
     "data": {
      "image/png": "[encoded data removed]",
      "text/plain": [
       "<Figure size 800x600 with 2 Axes>"
      ]
     },
     "metadata": {},
     "output_type": "display_data"
    },
    {
     "name": "stderr",
     "output_type": "stream",
     "text": [
      "ic| epoch: 9\n",
      "    phase: 'test'\n",
      "    epoch_loss: tensor(0.2812, device='cuda:0')\n",
      "    epoch_acc: tensor(0.2812, device='cuda:0', dtype=torch.float64)\n"
     ]
    }
   ],
   "source": [
    "import copy\n",
    "import torch\n",
    "import matplotlib.pyplot as plt\n",
    "from sklearn.metrics import confusion_matrix, accuracy_score, precision_score, recall_score, f1_score\n",
    "from torch.optim.lr_scheduler import StepLR\n",
    "\n",
    "# Создание scheduler\n",
    "scheduler = StepLR(optimizer, step_size=3, gamma=0.1)  # Пример параметров: каждые 3 эпохи уменьшить LR в 10 раз\n",
    "\n",
    "# Инициализация пустой матрицы ошибок и списков для сохранения предсказаний и меток\n",
    "all_preds = []\n",
    "all_labels = []\n",
    "\n",
    "# Цикл обучения и валидации\n",
    "for epoch in range(10):\n",
    "    print(\"Epoch:\", epoch) \n",
    "    for phase in ['train', 'val', 'test']:\n",
    "        if phase == 'train':\n",
    "            model.train()\n",
    "        elif phase == 'val' or phase == 'test':\n",
    "            model.eval()\n",
    "\n",
    "        running_loss = 0.0\n",
    "        running_corrects = 0\n",
    "\n",
    "        for inputs, labels in dataloaders_dict[phase]:\n",
    "            torch.cuda.empty_cache()\n",
    "            inputs = inputs.to(device)\n",
    "            labels = labels.to(device)\n",
    "\n",
    "            optimizer.zero_grad()\n",
    "\n",
    "            with torch.set_grad_enabled(phase == 'train'):\n",
    "                outputs = model(inputs)\n",
    "                loss = criterion(outputs, labels)\n",
    "\n",
    "                _, preds = torch.max(outputs, 1)\n",
    "\n",
    "                if phase == 'train':\n",
    "                    loss.backward()\n",
    "                    optimizer.step()\n",
    "\n",
    "                running_loss += loss.item() * inputs.size(0)\n",
    "                running_corrects += torch.sum(preds == labels.data)\n",
    "\n",
    "                # Добавление предсказаний и меток в списки\n",
    "                all_preds.extend(preds.cpu().numpy())\n",
    "                all_labels.extend(labels.cpu().numpy())\n",
    "\n",
    "            epoch_loss = running_corrects / len(dataloaders_dict[phase].dataset)\n",
    "            epoch_acc = running_corrects.double() / len(dataloaders_dict[phase].dataset)\n",
    "            loss_history[phase].append(epoch_loss)\n",
    "            acc_history[phase].append(epoch_acc)\n",
    "\n",
    "            if phase != 'test' and epoch_acc > bests_acc:\n",
    "                best_weights = copy.deepcopy(model.state_dict())\n",
    "                bests_acc = epoch_acc\n",
    "\n",
    "        # Обновление learning rate\n",
    "        if phase == 'train':\n",
    "            scheduler.step()\n",
    "\n",
    "        # Вывод информации о текущем эпохе и фазе\n",
    "        _ = ic(epoch, phase, epoch_loss, epoch_acc)\n",
    "\n",
    "        # Вывод матрицы ошибок и вычисление F1-меры после валидации\n",
    "        if phase == 'val' and epoch==9:\n",
    "            cm = confusion_matrix(all_labels, all_preds)\n",
    "            accuracy = accuracy_score(all_labels, all_preds)\n",
    "            precision = precision_score(all_labels, all_preds, average='weighted')\n",
    "            recall = recall_score(all_labels, all_preds, average='weighted')\n",
    "            f1 = f1_score(all_labels, all_preds, average='weighted')\n",
    "            print('Accuracy:', accuracy)\n",
    "            print('Precision:', precision)\n",
    "            print('Recall:', recall)\n",
    "            print('F1 Score:', f1)\n",
    "\n",
    "            # Отрисовка матрицы ошибок\n",
    "            plt.figure(figsize=(8, 6))\n",
    "            plt.imshow(cm, interpolation='nearest', cmap=plt.cm.Blues)\n",
    "            plt.title('Confusion Matrix')\n",
    "            plt.colorbar()\n",
    "            # plt.xticks(range(len(classes)), classes, rotation=45)\n",
    "            # plt.yticks(range(len(classes)), classes)\n",
    "            plt.xlabel('Predicted Label')\n",
    "            plt.ylabel('True Label')\n",
    "            plt.show()"
   ]
  },
  {
   "cell_type": "code",
   "execution_count": null,
   "metadata": {},
   "outputs": [],
   "source": []
  }
 ],
 "metadata": {
  "kernelspec": {
   "display_name": "Python 3",
   "language": "python",
   "name": "python3"
  },
  "language_info": {
   "codemirror_mode": {
    "name": "ipython",
    "version": 3
   },
   "file_extension": ".py",
   "mimetype": "text/x-python",
   "name": "python",
   "nbconvert_exporter": "python",
   "pygments_lexer": "ipython3",
   "version": "3.10.12"
  }
 },
 "nbformat": 4,
 "nbformat_minor": 2
}
