{
 "cells": [
  {
   "cell_type": "markdown",
   "id": "9jsWouuafIgn",
   "metadata": {
    "id": "9jsWouuafIgn"
   },
   "source": [
    "# ДЗ 3.3: Использование модели включающей в себя Conv3D.\n"
   ]
  },
  {
   "cell_type": "markdown",
   "id": "DyZ_JC0Zfxzh",
   "metadata": {
    "id": "DyZ_JC0Zfxzh"
   },
   "source": [
    "## Импортируем необходимые пакеты, подключаем диск. Считываем файл с разметкой."
   ]
  },
  {
   "cell_type": "code",
   "execution_count": 2,
   "id": "certain-suspect",
   "metadata": {
    "id": "certain-suspect"
   },
   "outputs": [],
   "source": [
    "import torch\n",
    "import pandas as pd\n",
    "import numpy as np\n",
    "import seaborn as sns\n",
    "from sklearn.model_selection import train_test_split\n",
    "import time\n",
    "from tqdm import tqdm\n"
   ]
  },
  {
   "cell_type": "code",
   "execution_count": null,
   "id": "terminal-failing",
   "metadata": {
    "id": "terminal-failing"
   },
   "outputs": [],
   "source": [
    "from torchvision.io import read_video\n",
    "from torch.utils.data import Dataset, DataLoader\n",
    "import av\n",
    "import torchvision.transforms as transforms\n",
    "import torch.nn as nn\n",
    "import torchvision\n",
    "import torch.nn.functional as F"
   ]
  },
  {
   "cell_type": "code",
   "execution_count": 4,
   "id": "5_mN_eLFjDtC",
   "metadata": {
    "colab": {
     "base_uri": "https://localhost:8080/"
    },
    "id": "5_mN_eLFjDtC",
    "outputId": "5893f9ce-b178-4419-b0bf-bbc6f29c3e5e"
   },
   "outputs": [
    {
     "name": "stdout",
     "output_type": "stream",
     "text": [
      "Mounted at /content/drive\n"
     ]
    }
   ],
   "source": [
    "from google.colab import drive\n",
    "drive.mount('/content/drive')"
   ]
  },
  {
   "cell_type": "code",
   "execution_count": null,
   "id": "sorted-saturn",
   "metadata": {
    "id": "sorted-saturn"
   },
   "outputs": [],
   "source": [
    "df = pd.read_csv(\"/content/drive/MyDrive/videos/data.csv\")\n",
    "df = df.drop(columns=['Unnamed: 0'])\n",
    "df.head()"
   ]
  },
  {
   "cell_type": "markdown",
   "id": "IKJFvhitgMLP",
   "metadata": {
    "id": "IKJFvhitgMLP"
   },
   "source": [
    "## Посмотрим на баланс классов в выборке."
   ]
  },
  {
   "cell_type": "code",
   "execution_count": null,
   "id": "worst-romance",
   "metadata": {
    "colab": {
     "base_uri": "https://localhost:8080/",
     "height": 468
    },
    "id": "worst-romance",
    "outputId": "7b6641b9-cf46-415e-d53a-7457b227c533"
   },
   "outputs": [
    {
     "data": {
      "text/plain": [
       "<Axes: xlabel='label', ylabel='Count'>"
      ]
     },
     "execution_count": 6,
     "metadata": {},
     "output_type": "execute_result"
    },
    {
     "data": {
      "image/png": "[encoded data removed]",
      "text/plain": [
       "<Figure size 640x480 with 1 Axes>"
      ]
     },
     "metadata": {},
     "output_type": "display_data"
    }
   ],
   "source": [
    "sns.histplot(df['label'], )"
   ]
  },
  {
   "cell_type": "code",
   "execution_count": null,
   "id": "driven-reverse",
   "metadata": {
    "id": "driven-reverse"
   },
   "outputs": [],
   "source": [
    "unique_values = np.unique(df['label'])\n",
    "mapping = {unique_values[i]: i for i in range(len(unique_values))}\n",
    "df['label'] = df['label'].apply(lambda x: mapping[x])"
   ]
  },
  {
   "cell_type": "markdown",
   "id": "XWaHgtikjPS4",
   "metadata": {
    "id": "XWaHgtikjPS4"
   },
   "source": [
    "## Класс MyDataset\n",
    "\n",
    "`MyDataset` - это пользовательский класс для обработки видеоданных, наследующий от класса `Dataset`. Этот класс подготавливает данные для использования в машинном обучении, особенно для задач видеоанализа.\n",
    "\n",
    "### Конструктор `__init__`\n",
    "\n",
    "- `data`: Данные, которые нужно обработать. Ожидается, что это будет DataFrame, содержащий информацию о видеофайлах.\n",
    "- `self.df`: DataFrame, который сохраняется в экземпляр класса для последующей обработки.\n",
    "\n",
    "### Метод `__len__`\n",
    "\n",
    "Возвращает количество записей в DataFrame, что соответствует количеству обрабатываемых видеофайлов.\n",
    "\n",
    "### Метод `__getitem__`\n",
    "\n",
    "Получает видео по индексу `idx`:\n",
    "\n",
    "- `row`: Строка DataFrame, соответствующая данному индексу, содержит метки и названия файлов видео.\n",
    "- `label`: Метка класса для видео.\n",
    "- `path`: Путь к файлу видео.\n",
    "- `video`: Загруженное видео с использованием функции `read_video`.\n",
    "\n",
    "Видео далее обрабатывается для создания единообразного формата входных данных:\n",
    "\n",
    "1. **Регулировка размера кадров видео**: Если длина видео превышает заданный порог, оно усекается или ресемплируется для сокращения количества кадров до значений 100, 200, 400, 600, 800 или 1000, в зависимости от исходной длины.\n",
    "2. **Дополнение видео**: Если длина видео меньше 100 кадров, оставшиеся кадры заполняются нулями.\n",
    "3. **Трансформация кадров**: Переформатирование каждого кадра к размеру 128x128, нормализация значений пикселей с использованием заданных средних значений и стандартных отклонений.\n",
    "\n",
    "### Возвращаемые значения\n",
    "\n",
    "- `video_normalized`: Тензор, содержащий обработанное видео, готовый для использования в модели машинного обучения.\n",
    "- `label`: Тензор, содержащий метку класса видео, преобразованную в тип `long`.\n",
    "\n",
    "Этот класс предназначен для удобной загрузки и предобработки видеоданных для задач компьютерного зрения, особенно для обучения моделей глубокого обучения.\n"
   ]
  },
  {
   "cell_type": "code",
   "execution_count": null,
   "id": "motivated-brick",
   "metadata": {
    "id": "motivated-brick"
   },
   "outputs": [],
   "source": [
    "class MyDataset(Dataset):\n",
    "    def __init__(self, data):\n",
    "        self.df = data\n",
    "\n",
    "    def __len__(self):\n",
    "        return len(self.df)\n",
    "\n",
    "    def __getitem__(self, idx):\n",
    "        row = self.df.loc[idx]\n",
    "        label = row['label']\n",
    "        path = '/content/drive/MyDrive/' + row['name_video']\n",
    "        video, _, _ = read_video(path, pts_unit=\"sec\")\n",
    "        if len(video) >= 100:\n",
    "            if len(video) > 1000:\n",
    "                video = video[:1000:10]\n",
    "            elif 800 < len(video) <= 1000:\n",
    "                video = video[:800:8]\n",
    "            elif 600 < len(video) <= 800:\n",
    "                video = video[:600:6]\n",
    "            elif 400 < len(video) <= 600:\n",
    "                video = video[:400:4]\n",
    "            elif 200 < len(video) <= 400:\n",
    "                video = video[:200:2]\n",
    "            else:\n",
    "                video = video[:100]\n",
    "        else:\n",
    "            f = []\n",
    "            for i in range(100):\n",
    "                if i < video.shape[0]:\n",
    "                    f.append(video[i])\n",
    "                else:\n",
    "                    f.append(torch.zeros_like(video[0]))\n",
    "            video = torch.cat(f, dim=0).reshape((100, video.shape[1], video.shape[2], video.shape[3]))\n",
    "        video = video.numpy()\n",
    "        video = torch.tensor(video)\n",
    "        resize_transform = transforms.Compose([\n",
    "                        transforms.ToPILImage(),\n",
    "                        transforms.Resize((128, 128)),\n",
    "                        transforms.ToTensor(),\n",
    "                        transforms.Normalize(mean=[0.5, 0.5, 0.5], std=[0.25, 0.25, 0.25])])\n",
    "        video_resized = torch.stack([resize_transform(frame.permute(2, 0, 1)).permute(1, 2, 0) for frame in video])\n",
    "        video_normalized = video_resized.permute(3, 0, 1, 2)\n",
    "        label = torch.tensor(label).long()\n",
    "        return video_normalized, label"
   ]
  },
  {
   "cell_type": "markdown",
   "id": "wJMzKH3rk7_m",
   "metadata": {
    "id": "wJMzKH3rk7_m"
   },
   "source": [
    "### Описание класса Block_3D\n",
    "\n",
    "`Block_3D` — это модуль нейронной сети, предназначенный для использования в архитектурах, работающих с трёхмерными данными, например, в видеоанализе. Этот класс наследуется от `nn.Module` и реализует типичный блок с пропускными соединениями (residual connections).\n",
    "\n",
    "#### Конструктор\n",
    "\n",
    "- `in_features`: Количество входных каналов.\n",
    "- `middle_features`: Количество каналов после первого свёрточного слоя.\n",
    "- `out_features`: Количество выходных каналов.\n",
    "- Внутри конструктора создаётся последовательность операций (`nn.Sequential`), включая свёртки (`nn.Conv3d`), пакетную нормализацию (`nn.BatchNorm3d`) и функцию активации ReLU. Также определено отдельное \"downsampling\" преобразование для обеспечения совместимости размерностей входных и выходных данных при сложении.\n",
    "\n",
    "#### Метод `forward`\n",
    "\n",
    "- `x`: Входной тензор.\n",
    "- Процесс обработки включает пропускание данных через основную последовательность слоёв, добавление результата к преобразованному входу (residual connection) и применение функции активации ReLU для получения итогового выхода.\n",
    "\n",
    "Этот блок обычно используется в глубоких нейронных сетях для улучшения обучения и уменьшения проблемы исчезающего градиента за счёт добавления прямого пути передачи сигнала.\n"
   ]
  },
  {
   "cell_type": "code",
   "execution_count": null,
   "id": "vocal-alberta",
   "metadata": {
    "id": "vocal-alberta"
   },
   "outputs": [],
   "source": [
    "class Block_3D(nn.Module):\n",
    "    def __init__(self, in_features, middle_features, out_features):\n",
    "        super(Block_3D, self).__init__()\n",
    "        self.net = nn.Sequential(\n",
    "            nn.Conv3d(in_features, middle_features, kernel_size=(1, 3, 3), stride=(1, 2, 2), padding=(0, 1, 1), bias=False),\n",
    "            nn.BatchNorm3d(middle_features),\n",
    "            nn.ReLU(inplace=True),\n",
    "            nn.Conv3d(middle_features, out_features, kernel_size=(1, 3, 3), padding=(0, 1, 1), bias=False),\n",
    "            nn.BatchNorm3d(out_features),\n",
    "        )\n",
    "        self.relu = nn.ReLU(inplace=True)\n",
    "        self.downsample = nn.Sequential(\n",
    "            nn.Conv3d(in_features, out_features, kernel_size=(1, 1, 1), stride=(1, 2, 2), bias=False),\n",
    "            nn.BatchNorm3d(out_features, eps=1e-05, momentum=0.1, affine=True, track_running_stats=True)\n",
    "        )\n",
    "\n",
    "    def forward(self, x):\n",
    "        out = self.net(x)\n",
    "        residual = self.downsample(x)\n",
    "        out += residual\n",
    "        out = self.relu(out)\n",
    "        return out"
   ]
  },
  {
   "cell_type": "code",
   "execution_count": null,
   "id": "accompanied-maryland",
   "metadata": {
    "id": "accompanied-maryland"
   },
   "outputs": [],
   "source": [
    "model = nn.Sequential(\n",
    "    #nn.Conv3d(3, 64, kernel_size=(3, 3, 3), stride=(1, 2, 2), padding=(1, 3, 3), bias=False),\n",
    "    #nn.BatchNorm3d(64, eps=1e-05, momentum=0.1, affine=True, track_running_stats=True),\n",
    "    #nn.ReLU(inplace=True),\n",
    "    #Block_Big(64, 64, 64),\n",
    "    #Block_Big(64, 64, 64),\n",
    "    Block_3D(3, 32, 64),\n",
    "    Block_3D(64, 128, 128),\n",
    "    #Block_Small(128, 128, 128),\n",
    "    Block_3D(128, 256, 256),\n",
    "    #Block_Small(256, 256, 256),\n",
    "    Block_3D(256, 128, 128),\n",
    "    #Block_Small(512, 512, 512),\n",
    "    nn.AdaptiveAvgPool3d((1, 1, 1)),\n",
    "    nn.Flatten(),\n",
    "    nn.Linear(in_features=128, out_features=15)\n",
    ")"
   ]
  },
  {
   "cell_type": "markdown",
   "id": "3oRWfv_NlEBb",
   "metadata": {
    "id": "3oRWfv_NlEBb"
   },
   "source": [
    "### Тут проверим какого размера у нас получилась модель.\n",
    "\n",
    "```\n",
    "# Выбран кодовый формат\n",
    "```\n",
    "\n"
   ]
  },
  {
   "cell_type": "code",
   "execution_count": null,
   "id": "least-relation",
   "metadata": {
    "colab": {
     "base_uri": "https://localhost:8080/"
    },
    "id": "least-relation",
    "outputId": "8e0b497f-cfbe-4d01-fa95-fbcfa3da7a68"
   },
   "outputs": [
    {
     "data": {
      "text/plain": [
       "1646831"
      ]
     },
     "execution_count": 40,
     "metadata": {},
     "output_type": "execute_result"
    }
   ],
   "source": [
    "sum(p.numel() for p in model.parameters())"
   ]
  },
  {
   "cell_type": "markdown",
   "id": "_SBpGuUflkJ4",
   "metadata": {
    "id": "_SBpGuUflkJ4"
   },
   "source": [
    "## Загружаем датасеты, инициализируем потимизатор для лупа обучения."
   ]
  },
  {
   "cell_type": "code",
   "execution_count": null,
   "id": "specified-taylor",
   "metadata": {
    "id": "specified-taylor"
   },
   "outputs": [],
   "source": [
    "df_now = df.sample(20)\n",
    "train, test = train_test_split(df, test_size=0.2, stratify=df['label'])"
   ]
  },
  {
   "cell_type": "code",
   "execution_count": null,
   "id": "laden-casting",
   "metadata": {
    "id": "laden-casting"
   },
   "outputs": [],
   "source": [
    "train_dataset = MyDataset(train.reset_index())\n",
    "test_dataset = MyDataset(test.reset_index())"
   ]
  },
  {
   "cell_type": "code",
   "execution_count": null,
   "id": "soviet-holly",
   "metadata": {
    "id": "soviet-holly"
   },
   "outputs": [],
   "source": [
    "train_dataloader = DataLoader(train_dataset, batch_size=8, shuffle=True)\n",
    "test_dataloader = DataLoader(test_dataset, batch_size=8)"
   ]
  },
  {
   "cell_type": "code",
   "execution_count": null,
   "id": "yIW6H2mskAOF",
   "metadata": {
    "id": "yIW6H2mskAOF"
   },
   "outputs": [],
   "source": [
    "device = torch.device('cuda:0' if torch.cuda.is_available() else 'cpu')\n",
    "model = model.to(device)"
   ]
  },
  {
   "cell_type": "code",
   "execution_count": null,
   "id": "insured-occurrence",
   "metadata": {
    "id": "insured-occurrence"
   },
   "outputs": [],
   "source": [
    "cel = nn.CrossEntropyLoss()\n",
    "optimizer = torch.optim.AdamW(model.parameters(), lr=0.0025)\n",
    "scheduler = torch.optim.lr_scheduler.MultiStepLR(optimizer, milestones=[6,11,14], gamma=0.1)"
   ]
  },
  {
   "cell_type": "markdown",
   "id": "ia5MCmaOmS5h",
   "metadata": {
    "id": "ia5MCmaOmS5h"
   },
   "source": [
    "## Тренировочный цикл модели\n",
    "\n",
    "Этот блок кода описывает процесс тренировки и валидации модели машинного обучения за фиксированное количество эпох.\n",
    "\n",
    "#### Параметры цикла\n",
    "\n",
    "- `for epoch in range(16)`: Итерации тренировки проходят через 16 эпох.\n",
    "\n",
    "#### Основные шаги в каждой эпохе\n",
    "\n",
    "1. **Инициализация переменных**:\n",
    "   - `mean_train_loss` и `mean_test_loss` для средней потери на тренировочных и тестовых данных.\n",
    "   - `right_pred_train` и `right_pred_test` для подсчета правильных предсказаний.\n",
    "   - `len_train` и `len_test` для подсчета общего количества образцов в тренировочном и тестовом наборах.\n",
    "\n",
    "2. **Тренировка**:\n",
    "   - `model.train()` переключает модель в режим тренировки.\n",
    "   - Итерации по тренировочным данным с помощью `tqdm` для визуализации прогресса.\n",
    "   - Для каждого батча данные и метки переносятся на устройство обработки, выполняются предсказания модели, вычисляется и обратно распространяется ошибка, обновляются веса.\n",
    "\n",
    "3. **Валидация**:\n",
    "   - `model.eval()` переключает модель в режим оценки.\n",
    "   - Аналогично тренировке, итерации по тестовым данным для оценки производительности модели без обратного распространения ошибки.\n",
    "\n",
    "4. **Логирование результатов**:\n",
    "   - Расчет и вывод средних потерь и точности для тренировочных и тестовых данных.\n",
    "   - Отображение текущего значения скорости обучения.\n",
    "\n",
    "5. **Сохранение модели**:\n",
    "   - Модель сохраняется каждые 5 эпох для возможности восстановления или дальнейшего анализа.\n",
    "\n",
    "#### Дополнительные замечания\n",
    "\n",
    "- Использование `detach().cpu()` предотвращает утечку памяти и переносит данные с устройства обработки для дальнейшего использования в CPU.\n",
    "- `F.softmax` используется для вычисления вероятностей классов перед определением предсказанного класса.\n",
    "- Планировщик (`scheduler.step()`) обновляет скорость обучения в зависимости от политики планирования."
   ]
  },
  {
   "cell_type": "code",
   "execution_count": null,
   "id": "entire-defense",
   "metadata": {
    "colab": {
     "background_save": true,
     "base_uri": "https://localhost:8080/"
    },
    "id": "entire-defense",
    "outputId": "ffb1f238-0ee2-45c0-9ee9-1ccee77de2f0"
   },
   "outputs": [
    {
     "name": "stdout",
     "output_type": "stream",
     "text": [
      "_______epoch0_____\n"
     ]
    },
    {
     "name": "stderr",
     "output_type": "stream",
     "text": [
      "loss: 3.063720941543579:  13%|█▎        | 32/247 [06:09<48:12, 13.45s/it] ERROR:libav.h264:mmco: unref short failure\n",
      "loss: 2.6088902950286865: 100%|██████████| 247/247 [58:29<00:00, 14.21s/it]\n",
      "loss: 2.7657570838928223: 100%|██████████| 62/62 [13:37<00:00, 13.18s/it]\n"
     ]
    },
    {
     "name": "stdout",
     "output_type": "stream",
     "text": [
      "train_loss: 2.721| test_loss: 2.771\n",
      "accuracy train: 0.101 | accuracy test: 0.118\n",
      "lr 0.0025 in epoch 0\n",
      "_______epoch1_____\n"
     ]
    },
    {
     "name": "stderr",
     "output_type": "stream",
     "text": [
      "loss: 2.5863280296325684: 100%|██████████| 247/247 [30:32<00:00,  7.42s/it]\n",
      "loss: 2.463223934173584: 100%|██████████| 62/62 [06:40<00:00,  6.46s/it]\n"
     ]
    },
    {
     "name": "stdout",
     "output_type": "stream",
     "text": [
      "train_loss: 2.661| test_loss: 2.674\n",
      "accuracy train: 0.109 | accuracy test: 0.136\n",
      "lr 0.0025 in epoch 1\n",
      "_______epoch2_____\n"
     ]
    },
    {
     "name": "stderr",
     "output_type": "stream",
     "text": [
      "loss: 2.577418327331543: 100%|██████████| 247/247 [30:42<00:00,  7.46s/it]\n",
      "loss: 2.868283748626709: 100%|██████████| 62/62 [06:39<00:00,  6.45s/it]\n"
     ]
    },
    {
     "name": "stdout",
     "output_type": "stream",
     "text": [
      "train_loss: 2.644| test_loss: 2.646\n",
      "accuracy train: 0.115 | accuracy test: 0.134\n",
      "lr 0.0025 in epoch 2\n",
      "_______epoch3_____\n"
     ]
    },
    {
     "name": "stderr",
     "output_type": "stream",
     "text": [
      "loss: 3.0845212936401367: 100%|██████████| 247/247 [30:23<00:00,  7.38s/it]\n",
      "loss: 2.390275716781616: 100%|██████████| 62/62 [06:35<00:00,  6.38s/it]\n"
     ]
    },
    {
     "name": "stdout",
     "output_type": "stream",
     "text": [
      "train_loss: 2.629| test_loss: 2.609\n",
      "accuracy train: 0.132 | accuracy test: 0.156\n",
      "lr 0.0025 in epoch 3\n",
      "_______epoch4_____\n"
     ]
    },
    {
     "name": "stderr",
     "output_type": "stream",
     "text": [
      "loss: 2.5052735805511475: 100%|██████████| 247/247 [30:46<00:00,  7.48s/it]\n",
      "loss: 2.5931549072265625: 100%|██████████| 62/62 [06:38<00:00,  6.43s/it]\n"
     ]
    },
    {
     "name": "stdout",
     "output_type": "stream",
     "text": [
      "train_loss: 2.606| test_loss: 2.651\n",
      "accuracy train: 0.137 | accuracy test: 0.122\n",
      "lr 0.0025 in epoch 4\n",
      "_______epoch5_____\n"
     ]
    },
    {
     "name": "stderr",
     "output_type": "stream",
     "text": [
      "loss: 2.500271797180176: 100%|██████████| 247/247 [30:28<00:00,  7.40s/it]\n",
      "loss: 2.8402929306030273: 100%|██████████| 62/62 [06:33<00:00,  6.34s/it]\n"
     ]
    },
    {
     "name": "stdout",
     "output_type": "stream",
     "text": [
      "train_loss: 2.595| test_loss: 2.630\n",
      "accuracy train: 0.147 | accuracy test: 0.144\n",
      "lr 0.0025 in epoch 5\n",
      "_______epoch6_____\n"
     ]
    },
    {
     "name": "stderr",
     "output_type": "stream",
     "text": [
      "loss: 2.857254981994629: 100%|██████████| 247/247 [30:12<00:00,  7.34s/it]\n",
      "loss: 2.7080631256103516: 100%|██████████| 62/62 [06:37<00:00,  6.42s/it]\n"
     ]
    },
    {
     "name": "stdout",
     "output_type": "stream",
     "text": [
      "train_loss: 2.544| test_loss: 2.563\n",
      "accuracy train: 0.169 | accuracy test: 0.164\n",
      "lr 0.00025 in epoch 6\n",
      "_______epoch7_____\n"
     ]
    },
    {
     "name": "stderr",
     "output_type": "stream",
     "text": [
      "loss: 2.4835433959960938: 100%|██████████| 247/247 [30:30<00:00,  7.41s/it]\n",
      "loss: 2.670466899871826: 100%|██████████| 62/62 [06:45<00:00,  6.54s/it]\n"
     ]
    },
    {
     "name": "stdout",
     "output_type": "stream",
     "text": [
      "train_loss: 2.516| test_loss: 2.543\n",
      "accuracy train: 0.194 | accuracy test: 0.170\n",
      "lr 0.00025 in epoch 7\n",
      "_______epoch8_____\n"
     ]
    },
    {
     "name": "stderr",
     "output_type": "stream",
     "text": [
      "loss: 2.835667610168457: 100%|██████████| 247/247 [30:25<00:00,  7.39s/it]\n",
      "loss: 2.8294968605041504: 100%|██████████| 62/62 [06:37<00:00,  6.41s/it]\n"
     ]
    },
    {
     "name": "stdout",
     "output_type": "stream",
     "text": [
      "train_loss: 2.511| test_loss: 2.531\n",
      "accuracy train: 0.184 | accuracy test: 0.176\n",
      "lr 0.00025 in epoch 8\n",
      "_______epoch9_____\n"
     ]
    },
    {
     "name": "stderr",
     "output_type": "stream",
     "text": [
      "loss: 3.2858986854553223: 100%|██████████| 247/247 [30:09<00:00,  7.33s/it]\n",
      "loss: 2.7818074226379395: 100%|██████████| 62/62 [06:30<00:00,  6.29s/it]\n"
     ]
    },
    {
     "name": "stdout",
     "output_type": "stream",
     "text": [
      "train_loss: 2.492| test_loss: 2.540\n",
      "accuracy train: 0.186 | accuracy test: 0.170\n",
      "lr 0.00025 in epoch 9\n",
      "_______epoch10_____\n"
     ]
    },
    {
     "name": "stderr",
     "output_type": "stream",
     "text": [
      "loss: 2.551194667816162: 100%|██████████| 247/247 [29:57<00:00,  7.28s/it]\n",
      "loss: 2.7299513816833496: 100%|██████████| 62/62 [06:35<00:00,  6.37s/it]\n"
     ]
    },
    {
     "name": "stdout",
     "output_type": "stream",
     "text": [
      "train_loss: 2.477| test_loss: 2.536\n",
      "accuracy train: 0.185 | accuracy test: 0.189\n",
      "lr 0.00025 in epoch 10\n",
      "_______epoch11_____\n"
     ]
    },
    {
     "name": "stderr",
     "output_type": "stream",
     "text": [
      "loss: 2.3330488204956055: 100%|██████████| 247/247 [30:12<00:00,  7.34s/it]\n",
      "loss: 2.753934144973755: 100%|██████████| 62/62 [06:36<00:00,  6.39s/it]\n"
     ]
    },
    {
     "name": "stdout",
     "output_type": "stream",
     "text": [
      "train_loss: 2.449| test_loss: 2.520\n",
      "accuracy train: 0.203 | accuracy test: 0.183\n",
      "lr 2.5e-05 in epoch 11\n",
      "_______epoch12_____\n"
     ]
    },
    {
     "name": "stderr",
     "output_type": "stream",
     "text": [
      "loss: 2.2300572395324707:   4%|▎         | 9/247 [00:42<17:22,  4.38s/it]"
     ]
    }
   ],
   "source": [
    "for epoch in range(16):\n",
    "    print(f\"_______epoch{epoch}_____\")\n",
    "    model.train()\n",
    "    mean_train_loss = 0\n",
    "    mean_test_loss = 0\n",
    "    right_pred_test = 0\n",
    "    right_pred_train = 0\n",
    "    len_train = 0\n",
    "    len_test = 0\n",
    "    train_tqdm = tqdm(train_dataloader)\n",
    "\n",
    "    for X, y in (train_tqdm):\n",
    "        X = X.to(device)\n",
    "        y = y.to(device)\n",
    "        optimizer.zero_grad()\n",
    "        res = model(X)\n",
    "        loss = cel(res, y)\n",
    "        train_tqdm.update()\n",
    "        loss.backward()\n",
    "        optimizer.step()\n",
    "        loss = loss.detach().cpu()\n",
    "        res = res.detach().cpu()\n",
    "        y = y.detach().cpu()\n",
    "        mean_train_loss += loss * len(y)\n",
    "        len_train += len(y)\n",
    "        train_tqdm.set_description_str(f\"loss: {loss}\")\n",
    "        preds = torch.max(F.softmax(res, dim=1), dim=1)\n",
    "        right_pred_train += len(preds[1][preds[1] == y])\n",
    "\n",
    "    model.eval()\n",
    "    test_tqdm = tqdm(test_dataloader)\n",
    "    with torch.no_grad():\n",
    "        for X, y in (test_tqdm):\n",
    "            X = X.to(device)\n",
    "            y = y.to(device)\n",
    "            res = model(X)\n",
    "            loss = cel(res, y)\n",
    "            loss = loss.detach().cpu()\n",
    "            res = res.detach().cpu()\n",
    "            y = y.detach().cpu()\n",
    "            mean_test_loss += loss * len(y)\n",
    "            len_test += len(y)\n",
    "            test_tqdm.set_description(f\"loss: {loss}\")\n",
    "            preds = torch.max(F.softmax(res, dim=1), dim=1)\n",
    "            right_pred_test += len(preds[1][preds[1] == y])\n",
    "\n",
    "    mean_train_loss = mean_train_loss / len_train\n",
    "    mean_test_loss = mean_test_loss / len_test\n",
    "    acc_test = right_pred_test / len_test\n",
    "    acc_train = right_pred_train / len_train\n",
    "    print(f\"train_loss: {mean_train_loss:.3f}| test_loss: {mean_test_loss:.3f}\")\n",
    "    print(f\"accuracy train: {acc_train:.3f} | accuracy test: {acc_test:.3f}\")\n",
    "    print(f\"lr {optimizer.param_groups[0]['lr']} in epoch {epoch}\")\n",
    "    scheduler.step()\n",
    "    if epoch % 5 == 0:\n",
    "      torch.save(model.state_dict(), \"/content/drive/MyDrive/\" + str(epoch) + \"CV__shared.pt\")"
   ]
  },
  {
   "cell_type": "markdown",
   "id": "XUxCnWXcp6z6",
   "metadata": {
    "id": "XUxCnWXcp6z6"
   },
   "source": [
    "\n",
    "\n",
    "```\n",
    "__epoch12\n",
    "loss: 2.4920406341552734: 100%|██████████| 247/247 [29:53<00:00, 7.26s/it]\n",
    "loss: 2.506084442138672: 100%|██████████| 62/62 [06:22<00:00, 6.17s/it]\n",
    "train_loss: 2.431| test_loss: 2.510\n",
    "accuracy train: 0.215 | accuracy test: 0.195\n",
    "lr 2.5e-05 in epoch 12\n",
    "__epoch13\n",
    "loss: 2.455209255218506: 100%|██████████| 247/247 [30:15<00:00, 7.35s/it]\n",
    "loss: 2.478292465209961: 100%|██████████| 62/62 [06:35<00:00, 6.38s/it]\n",
    "train_loss: 2.422| test_loss: 2.487\n",
    "accuracy train: 0.224 | accuracy test: 0.201\n",
    "lr 2.5e-05 in epoch 13\n",
    "__epoch14\n",
    "loss: 2.407191276550293: 100%|██████████| 247/247 [29:58<00:00, 7.28s/it]\n",
    "loss: 2.4228720664978027: 100%|██████████| 62/62 [06:25<00:00, 6.21s/it]\n",
    "train_loss: 2.401| test_loss: 2.458\n",
    "accuracy train: 0.235 | accuracy test: 0.212\n",
    "lr 2.5e-05 in epoch 14\n",
    "__epoch15\n",
    "loss: 2.3776354789733887: 100%|██████████| 247/247 [29:54<00:00, 7.27s/it]\n",
    "loss: 2.397711276123047: 100%|██████████| 62/62 [06:28<00:00, 6.26s/it]\n",
    "train_loss: 2.387| test_loss: 2.441\n",
    "accuracy train: 0.243 | accuracy test: 0.225\n",
    "lr 2.5e-05 in epoch 15\n",
    "__epoch16\n",
    "loss: 2.351329803466797: 100%|██████████| 247/247 [29:49<00:00, 7.25s/it]\n",
    "loss: 2.3729090690612793: 100%|██████████| 62/62 [06:23<00:00, 6.19s/it]\n",
    "train_loss: 2.376| test_loss: 2.423\n",
    "accuracy train: 0.251 | accuracy test: 0.232\n",
    "lr 2.5e-05 in epoch 16\n",
    "__epoch17\n",
    "loss: 2.3249197006225586: 100%|██████████| 247/247 [30:01<00:00, 7.29s/it]\n",
    "loss: 2.3480935096740723: 100%|██████████| 62/62 [06:31<00:00, 6.32s/it]\n",
    "train_loss: 2.365| test_loss: 2.409\n",
    "accuracy train: 0.258 | accuracy test: 0.239\n",
    "lr 2.5e-05 in epoch 17\n",
    "__epoch18\n",
    "loss: 2.2980833053588867: 100%|██████████| 247/247 [29:57<00:00, 7.28s/it]\n",
    "loss: 2.323225975036621: 100%|██████████| 62/62 [06:27<00:00, 6.25s/it]\n",
    "train_loss: 2.354| test_loss: 2.395\n",
    "accuracy train: 0.267 | accuracy test: 0.245\n",
    "lr 2.5e-05 in epoch 18\n",
    "```\n",
    "\n",
    "\n",
    "\n"
   ]
  },
  {
   "attachments": {
    "image.png": {
     "image/png": "[encoded data removed]"
    }
   },
   "cell_type": "markdown",
   "id": "sublime-drill",
   "metadata": {
    "id": "x_LF_O-BqOFS"
   },
   "source": [
    "data:image/png;base64,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![image.png](attachment:image.png)"
   ]
  },
  {
   "cell_type": "code",
   "execution_count": null,
   "id": "capital-newton",
   "metadata": {},
   "outputs": [],
   "source": []
  }
 ],
 "metadata": {
  "accelerator": "GPU",
  "colab": {
   "gpuType": "T4",
   "provenance": []
  },
  "kernelspec": {
   "display_name": "Python 3 (ipykernel)",
   "language": "python",
   "name": "python3"
  },
  "language_info": {
   "codemirror_mode": {
    "name": "ipython",
    "version": 3
   },
   "file_extension": ".py",
   "mimetype": "text/x-python",
   "name": "python",
   "nbconvert_exporter": "python",
   "pygments_lexer": "ipython3",
   "version": "3.11.6"
  }
 },
 "nbformat": 4,
 "nbformat_minor": 5
}
